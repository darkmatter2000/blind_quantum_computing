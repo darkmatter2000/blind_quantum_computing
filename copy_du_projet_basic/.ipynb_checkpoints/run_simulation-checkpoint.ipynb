{
 "cells": [
  {
   "cell_type": "code",
   "execution_count": 1,
   "id": "4f4ecef4-bcd6-487e-8e9a-3f9f919db0a6",
   "metadata": {},
   "outputs": [],
   "source": [
    "import nbimporter # Pour pouvoir importer les notebook jupyter\n",
    "\n",
    "from application import AliceProgram, BobProgram\n",
    "\n",
    "from squidasm.run.stack.config import StackNetworkConfig\n",
    "from squidasm.run.stack.run import run"
   ]
  },
  {
   "cell_type": "code",
   "execution_count": 2,
   "id": "2543b4d4-15f6-4f5f-815d-8ad829ddd213",
   "metadata": {},
   "outputs": [
    {
     "name": "stdout",
     "output_type": "stream",
     "text": [
      "Alice sends message: 0.25\n",
      "Bob receives message: 0.25\n",
      "Alice measures local EPR qubit:0\n",
      "Bob measures local EPR qubit:0\n"
     ]
    },
    {
     "ename": "AllocError",
     "evalue": "No more qubits available",
     "output_type": "error",
     "traceback": [
      "\u001b[0;31m---------------------------------------------------------------------------\u001b[0m",
      "\u001b[0;31mAllocError\u001b[0m                                Traceback (most recent call last)",
      "Cell \u001b[0;32mIn[2], line 9\u001b[0m\n\u001b[1;32m      6\u001b[0m bob_program \u001b[38;5;241m=\u001b[39m BobProgram()\n\u001b[1;32m      8\u001b[0m \u001b[38;5;66;03m# Run the simulation. Programs argument is a mapping of network node labels to programs to run on that node\u001b[39;00m\n\u001b[0;32m----> 9\u001b[0m \u001b[43mrun\u001b[49m\u001b[43m(\u001b[49m\u001b[43mconfig\u001b[49m\u001b[38;5;241;43m=\u001b[39;49m\u001b[43mcfg\u001b[49m\u001b[43m,\u001b[49m\u001b[43m \u001b[49m\u001b[43mprograms\u001b[49m\u001b[38;5;241;43m=\u001b[39;49m\u001b[43m{\u001b[49m\u001b[38;5;124;43m\"\u001b[39;49m\u001b[38;5;124;43mAlice\u001b[39;49m\u001b[38;5;124;43m\"\u001b[39;49m\u001b[43m:\u001b[49m\u001b[43m \u001b[49m\u001b[43malice_program\u001b[49m\u001b[43m,\u001b[49m\u001b[43m \u001b[49m\u001b[38;5;124;43m\"\u001b[39;49m\u001b[38;5;124;43mBob\u001b[39;49m\u001b[38;5;124;43m\"\u001b[39;49m\u001b[43m:\u001b[49m\u001b[43m \u001b[49m\u001b[43mbob_program\u001b[49m\u001b[43m}\u001b[49m\u001b[43m,\u001b[49m\u001b[43m \u001b[49m\u001b[43mnum_times\u001b[49m\u001b[38;5;241;43m=\u001b[39;49m\u001b[38;5;241;43m4\u001b[39;49m\u001b[43m)\u001b[49m\n",
      "File \u001b[0;32m/mnt/d/Etude/Travaux personnels/Travail perso en quantique/Projet-realisation/Blind quantum computing/blind_quantum_computing/squidasm_folder/squidasm/squidasm/run/stack/run.py:166\u001b[0m, in \u001b[0;36mrun\u001b[0;34m(config, programs, num_times)\u001b[0m\n\u001b[1;32m    163\u001b[0m \u001b[38;5;28;01mfor\u001b[39;00m name, program \u001b[38;5;129;01min\u001b[39;00m programs\u001b[38;5;241m.\u001b[39mitems():\n\u001b[1;32m    164\u001b[0m     network\u001b[38;5;241m.\u001b[39mstacks[name]\u001b[38;5;241m.\u001b[39mhost\u001b[38;5;241m.\u001b[39menqueue_program(program, num_times)\n\u001b[0;32m--> 166\u001b[0m results \u001b[38;5;241m=\u001b[39m \u001b[43m_run\u001b[49m\u001b[43m(\u001b[49m\u001b[43mnetwork\u001b[49m\u001b[43m)\u001b[49m\n\u001b[1;32m    167\u001b[0m \u001b[38;5;28;01mreturn\u001b[39;00m results\n",
      "File \u001b[0;32m/mnt/d/Etude/Travaux personnels/Travail perso en quantique/Projet-realisation/Blind quantum computing/blind_quantum_computing/squidasm_folder/squidasm/squidasm/run/stack/run.py:141\u001b[0m, in \u001b[0;36m_run\u001b[0;34m(network)\u001b[0m\n\u001b[1;32m    138\u001b[0m     stack\u001b[38;5;241m.\u001b[39mstart()\n\u001b[1;32m    140\u001b[0m \u001b[38;5;66;03m# Start the NetSquid simulation.\u001b[39;00m\n\u001b[0;32m--> 141\u001b[0m \u001b[43mns\u001b[49m\u001b[38;5;241;43m.\u001b[39;49m\u001b[43msim_run\u001b[49m\u001b[43m(\u001b[49m\u001b[43m)\u001b[49m\n\u001b[1;32m    143\u001b[0m \u001b[38;5;28;01mreturn\u001b[39;00m [stack\u001b[38;5;241m.\u001b[39mhost\u001b[38;5;241m.\u001b[39mget_results() \u001b[38;5;28;01mfor\u001b[39;00m _, stack \u001b[38;5;129;01min\u001b[39;00m network\u001b[38;5;241m.\u001b[39mstacks\u001b[38;5;241m.\u001b[39mitems()]\n",
      "File \u001b[0;32m~/.local/lib/python3.10/site-packages/netsquid/util/simtools.py:278\u001b[0m, in \u001b[0;36msim_run\u001b[0;34m(end_time, duration, magnitude)\u001b[0m\n\u001b[1;32m    276\u001b[0m         _simengine\u001b[38;5;241m.\u001b[39mrun((_simengine\u001b[38;5;241m.\u001b[39mcurrent_time \u001b[38;5;241m+\u001b[39m duration \u001b[38;5;241m*\u001b[39m magnitude))\n\u001b[1;32m    277\u001b[0m     \u001b[38;5;28;01melse\u001b[39;00m:\n\u001b[0;32m--> 278\u001b[0m         \u001b[43m_simengine\u001b[49m\u001b[38;5;241;43m.\u001b[39;49m\u001b[43mrun\u001b[49m\u001b[43m(\u001b[49m\u001b[43m)\u001b[49m\n\u001b[1;32m    279\u001b[0m \u001b[38;5;28;01mif\u001b[39;00m logger\u001b[38;5;241m.\u001b[39misEnabledFor(logging\u001b[38;5;241m.\u001b[39mINFO):\n\u001b[1;32m    280\u001b[0m     end_wc_time \u001b[38;5;241m=\u001b[39m time()\n",
      "File \u001b[0;32mpydynaa/core.pyx:1477\u001b[0m, in \u001b[0;36mpydynaa.core.SimulationEngine.run\u001b[0;34m()\u001b[0m\n",
      "File \u001b[0;32mpydynaa/core.pyx:173\u001b[0m, in \u001b[0;36mpydynaa.core._call_obj_expr\u001b[0;34m()\u001b[0m\n",
      "File \u001b[0;32mpydynaa/core.pyx:170\u001b[0m, in \u001b[0;36mpydynaa.core._call_obj_expr\u001b[0;34m()\u001b[0m\n",
      "File \u001b[0;32mnetsquid/protocols/protocol.pyx:290\u001b[0m, in \u001b[0;36mnetsquid.protocols.protocol.Protocol._expression_callback\u001b[0;34m()\u001b[0m\n",
      "File \u001b[0;32mnetsquid/protocols/protocol.pyx:301\u001b[0m, in \u001b[0;36mnetsquid.protocols.protocol.Protocol._generator_step\u001b[0;34m()\u001b[0m\n",
      "File \u001b[0;32m/mnt/d/Etude/Travaux personnels/Travail perso en quantique/Projet-realisation/Blind quantum computing/blind_quantum_computing/squidasm_folder/squidasm/squidasm/sim/stack/processor.py:166\u001b[0m, in \u001b[0;36mProcessor.run\u001b[0;34m(self)\u001b[0m\n\u001b[1;32m    163\u001b[0m \u001b[38;5;66;03m# assert isinstance(subroutine, Subroutine)\u001b[39;00m\n\u001b[1;32m    164\u001b[0m \u001b[38;5;28mself\u001b[39m\u001b[38;5;241m.\u001b[39m_logger\u001b[38;5;241m.\u001b[39mdebug(\u001b[38;5;124mf\u001b[39m\u001b[38;5;124m\"\u001b[39m\u001b[38;5;124mreceived new subroutine from handler: \u001b[39m\u001b[38;5;132;01m{\u001b[39;00msubroutine\u001b[38;5;132;01m}\u001b[39;00m\u001b[38;5;124m\"\u001b[39m)\n\u001b[0;32m--> 166\u001b[0m \u001b[38;5;28;01myield from\u001b[39;00m \u001b[38;5;28mself\u001b[39m\u001b[38;5;241m.\u001b[39mexecute_subroutine(subroutine)\n\u001b[1;32m    168\u001b[0m \u001b[38;5;28mself\u001b[39m\u001b[38;5;241m.\u001b[39m_send_handler_msg(\u001b[38;5;124m\"\u001b[39m\u001b[38;5;124msubroutine done\u001b[39m\u001b[38;5;124m\"\u001b[39m)\n",
      "File \u001b[0;32m/mnt/d/Etude/Travaux personnels/Travail perso en quantique/Projet-realisation/Blind quantum computing/blind_quantum_computing/squidasm_folder/squidasm/squidasm/sim/stack/processor.py:191\u001b[0m, in \u001b[0;36mProcessor.execute_subroutine\u001b[0;34m(self, subroutine)\u001b[0m\n\u001b[1;32m    189\u001b[0m     \u001b[38;5;28mself\u001b[39m\u001b[38;5;241m.\u001b[39m_interpret_branch_instr(app_id, instr)\n\u001b[1;32m    190\u001b[0m \u001b[38;5;28;01melse\u001b[39;00m:\n\u001b[0;32m--> 191\u001b[0m     generator \u001b[38;5;241m=\u001b[39m \u001b[38;5;28;43mself\u001b[39;49m\u001b[38;5;241;43m.\u001b[39;49m\u001b[43m_interpret_instruction\u001b[49m\u001b[43m(\u001b[49m\u001b[43mapp_id\u001b[49m\u001b[43m,\u001b[49m\u001b[43m \u001b[49m\u001b[43minstr\u001b[49m\u001b[43m)\u001b[49m\n\u001b[1;32m    192\u001b[0m     \u001b[38;5;28;01mif\u001b[39;00m generator:\n\u001b[1;32m    193\u001b[0m         \u001b[38;5;28;01myield from\u001b[39;00m generator\n",
      "File \u001b[0;32m/mnt/d/Etude/Travaux personnels/Travail perso en quantique/Projet-realisation/Blind quantum computing/blind_quantum_computing/squidasm_folder/squidasm/squidasm/sim/stack/processor.py:202\u001b[0m, in \u001b[0;36mProcessor._interpret_instruction\u001b[0;34m(self, app_id, instr)\u001b[0m\n\u001b[1;32m    200\u001b[0m     \u001b[38;5;28;01mreturn\u001b[39;00m \u001b[38;5;28mself\u001b[39m\u001b[38;5;241m.\u001b[39m_interpret_set(app_id, instr)\n\u001b[1;32m    201\u001b[0m \u001b[38;5;28;01melif\u001b[39;00m \u001b[38;5;28misinstance\u001b[39m(instr, core\u001b[38;5;241m.\u001b[39mQAllocInstruction):\n\u001b[0;32m--> 202\u001b[0m     \u001b[38;5;28;01mreturn\u001b[39;00m \u001b[38;5;28;43mself\u001b[39;49m\u001b[38;5;241;43m.\u001b[39;49m\u001b[43m_interpret_qalloc\u001b[49m\u001b[43m(\u001b[49m\u001b[43mapp_id\u001b[49m\u001b[43m,\u001b[49m\u001b[43m \u001b[49m\u001b[43minstr\u001b[49m\u001b[43m)\u001b[49m\n\u001b[1;32m    203\u001b[0m \u001b[38;5;28;01melif\u001b[39;00m \u001b[38;5;28misinstance\u001b[39m(instr, core\u001b[38;5;241m.\u001b[39mQFreeInstruction):\n\u001b[1;32m    204\u001b[0m     \u001b[38;5;28;01mreturn\u001b[39;00m \u001b[38;5;28mself\u001b[39m\u001b[38;5;241m.\u001b[39m_interpret_qfree(app_id, instr)\n",
      "File \u001b[0;32m/mnt/d/Etude/Travaux personnels/Travail perso en quantique/Projet-realisation/Blind quantum computing/blind_quantum_computing/squidasm_folder/squidasm/squidasm/sim/stack/processor.py:297\u001b[0m, in \u001b[0;36mProcessor._interpret_qalloc\u001b[0;34m(self, app_id, instr)\u001b[0m\n\u001b[1;32m    294\u001b[0m     \u001b[38;5;28;01mraise\u001b[39;00m \u001b[38;5;167;01mRuntimeError\u001b[39;00m(\u001b[38;5;124mf\u001b[39m\u001b[38;5;124m\"\u001b[39m\u001b[38;5;124mqubit address in register \u001b[39m\u001b[38;5;132;01m{\u001b[39;00minstr\u001b[38;5;241m.\u001b[39mreg\u001b[38;5;132;01m}\u001b[39;00m\u001b[38;5;124m is not defined\u001b[39m\u001b[38;5;124m\"\u001b[39m)\n\u001b[1;32m    295\u001b[0m \u001b[38;5;28mself\u001b[39m\u001b[38;5;241m.\u001b[39m_logger\u001b[38;5;241m.\u001b[39mdebug(\u001b[38;5;124mf\u001b[39m\u001b[38;5;124m\"\u001b[39m\u001b[38;5;124mAllocating qubit with virtual ID \u001b[39m\u001b[38;5;132;01m{\u001b[39;00mvirt_id\u001b[38;5;132;01m}\u001b[39;00m\u001b[38;5;124m\"\u001b[39m)\n\u001b[0;32m--> 297\u001b[0m phys_id \u001b[38;5;241m=\u001b[39m \u001b[38;5;28;43mself\u001b[39;49m\u001b[38;5;241;43m.\u001b[39;49m\u001b[43mphysical_memory\u001b[49m\u001b[38;5;241;43m.\u001b[39;49m\u001b[43mallocate\u001b[49m\u001b[43m(\u001b[49m\u001b[43m)\u001b[49m\n\u001b[1;32m    298\u001b[0m app_mem\u001b[38;5;241m.\u001b[39mmap_virt_id(virt_id, phys_id)\n",
      "File \u001b[0;32m/mnt/d/Etude/Travaux personnels/Travail perso en quantique/Projet-realisation/Blind quantum computing/blind_quantum_computing/squidasm_folder/squidasm/squidasm/sim/stack/common.py:380\u001b[0m, in \u001b[0;36mPhysicalQuantumMemory.allocate\u001b[0;34m(self)\u001b[0m\n\u001b[1;32m    378\u001b[0m         \u001b[38;5;28mself\u001b[39m\u001b[38;5;241m.\u001b[39m_allocated_ids\u001b[38;5;241m.\u001b[39madd(i)\n\u001b[1;32m    379\u001b[0m         \u001b[38;5;28;01mreturn\u001b[39;00m i\n\u001b[0;32m--> 380\u001b[0m \u001b[38;5;28;01mraise\u001b[39;00m AllocError(\u001b[38;5;124m\"\u001b[39m\u001b[38;5;124mNo more qubits available\u001b[39m\u001b[38;5;124m\"\u001b[39m)\n",
      "\u001b[0;31mAllocError\u001b[0m: No more qubits available"
     ]
    }
   ],
   "source": [
    "# Import network configuration from file\n",
    "cfg = StackNetworkConfig.from_file(\"config.yaml\")\n",
    "\n",
    "# Create instances of programs to run\n",
    "alice_program = AliceProgram()\n",
    "bob_program = BobProgram()\n",
    "\n",
    "# Run the simulation. Programs argument is a mapping of network node labels to programs to run on that node\n",
    "run(config=cfg, programs={\"Alice\": alice_program, \"Bob\": bob_program}, num_times=4)\n"
   ]
  },
  {
   "cell_type": "code",
   "execution_count": null,
   "id": "c1b6d145-6b41-40a3-b41c-9dbe4d390988",
   "metadata": {},
   "outputs": [],
   "source": []
  }
 ],
 "metadata": {
  "kernelspec": {
   "display_name": "Python 3 (ipykernel)",
   "language": "python",
   "name": "python3"
  },
  "language_info": {
   "codemirror_mode": {
    "name": "ipython",
    "version": 3
   },
   "file_extension": ".py",
   "mimetype": "text/x-python",
   "name": "python",
   "nbconvert_exporter": "python",
   "pygments_lexer": "ipython3",
   "version": "3.10.12"
  }
 },
 "nbformat": 4,
 "nbformat_minor": 5
}
