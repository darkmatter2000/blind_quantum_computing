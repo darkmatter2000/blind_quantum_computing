{
 "cells": [
  {
   "cell_type": "code",
   "execution_count": 1,
   "id": "0ca3e164-aaca-414d-9660-d369d07dde5f",
   "metadata": {},
   "outputs": [
    {
     "ename": "SyntaxError",
     "evalue": "invalid syntax (2494350585.py, line 1)",
     "output_type": "error",
     "traceback": [
      "\u001b[0;36m  Cell \u001b[0;32mIn[1], line 1\u001b[0;36m\u001b[0m\n\u001b[0;31m    import\u001b[0m\n\u001b[0m           ^\u001b[0m\n\u001b[0;31mSyntaxError\u001b[0m\u001b[0;31m:\u001b[0m invalid syntax\n"
     ]
    }
   ],
   "source": [
    "import "
   ]
  },
  {
   "cell_type": "code",
   "execution_count": null,
   "id": "205bd940-45e0-4239-9bfb-340274e4f133",
   "metadata": {},
   "outputs": [],
   "source": [
    "class AliceProgram(Program):\n",
    "    PEER_NAME = \"Bob\"\n",
    "\n",
    "    @property\n",
    "    def meta(self) -> ProgramMeta:\n",
    "        return ProgramMeta(\n",
    "            name = \"tutorial_program\",\n",
    "            csockets = [self.PEER_NAME],\n",
    "            epr_sockets = [self.PEER_NAME],\n",
    "            max_qubits = 1,\n",
    "        )\n",
    "\n",
    "    def run(self, context: ProgramContext):\n",
    "        # get classical socket to peer\n",
    "        csocket = context.csockets[self.PEER_NAME]\n",
    "        # get EPR socket to peer\n",
    "        epr_socket = context.epr_sockets[self.PEER_NAME]\n",
    "        #get connection to quantum network processing unit\n",
    "        connection = context.connection\n",
    "\n",
    "        # send a string message via a classical channel\n",
    "        message = \"Hello\"\n",
    "        csocket.send(message)\n",
    "        print(f\"Alice sends message: {message}\")\n",
    "\n",
    "        # Register a request to create an EPR pair, then apply hadamard gate on the epr qubit and measure\n",
    "        epr_qubit = epr_socket.create_keep()[0]\n",
    "        epr_qubit.H()\n",
    "        result = epr_qubit.measure()\n",
    "        yield from connection.flush()\n",
    "        print(f\"Alice measures local EPR qubit:{result}\")\n",
    "\n",
    "        #Qubits on a local node can be obtained, but require the connection to be initialized\n",
    "        local_qubit0 = Qubit(connection)\n",
    "        local_qubit1 = Qubit(connection)\n",
    "\n",
    "        # Apply a Hadamard gate\n",
    "        local_qubit0.H()\n",
    "\n",
    "        # Apply CNOT gate where q0 is the control qubit, q1 is the target qubit\n",
    "        local_qubit0.cnot(local_qubit1)\n",
    "\n",
    "        r0 = local_qubit0.measure()\n",
    "        r1 = local_qubit1.measure()\n",
    "\n",
    "        yield from connection.flush()\n",
    "        print(f\"Alice measures local qubits: {r0} , {r1}\")\n",
    "\n",
    "        return {}"
   ]
  }
 ],
 "metadata": {
  "kernelspec": {
   "display_name": "Python 3 (ipykernel)",
   "language": "python",
   "name": "python3"
  },
  "language_info": {
   "codemirror_mode": {
    "name": "ipython",
    "version": 3
   },
   "file_extension": ".py",
   "mimetype": "text/x-python",
   "name": "python",
   "nbconvert_exporter": "python",
   "pygments_lexer": "ipython3",
   "version": "3.10.12"
  }
 },
 "nbformat": 4,
 "nbformat_minor": 5
}
